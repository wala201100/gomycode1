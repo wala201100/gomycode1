{
 "cells": [
  {
   "cell_type": "code",
   "execution_count": null,
   "id": "8c09a884",
   "metadata": {},
   "outputs": [],
   "source": [
    "# Question 1\n",
    "# Ask user for their first name\n",
    "first_name = input(\"first name: \")\n",
    "\n",
    "# Ask user for their last name\n",
    "last_name = input(\"last name: \")\n",
    "\n",
    "print(last_name + \" \" + first_name)"
   ]
  },
  {
   "cell_type": "code",
   "execution_count": null,
   "id": "6923ebd3",
   "metadata": {},
   "outputs": [],
   "source": [
    "# Question 2\n",
    "# Ask user for a number\n",
    "number = int(input(\"Enter a number: \"))\n",
    "\n",
    "# Check if the number is even or odd\n",
    "if number % 2 == 0:\n",
    "    print(number, \"is even\")\n",
    "else:\n",
    "    print(number, \"is odd\")"
   ]
  },
  {
   "cell_type": "code",
   "execution_count": null,
   "id": "ce4cbf8b",
   "metadata": {},
   "outputs": [],
   "source": [
    "# Question 3\n",
    "# Initialize an empty list to store the numbers\n",
    "numbers = []\n",
    "\n",
    "# Iterate over the range from 2000 to 3200 (inclusive)\n",
    "for i in range(2000, 3201):\n",
    "    # Check if the number is divisible by 7 and not a multiple of 5\n",
    "    if i % 7 == 0 and i % 5 != 0:\n",
    "        # Add the number to the list\n",
    "        numbers.append(i)\n",
    "\n",
    "# Print the list of numbers separated by spaces\n",
    "print(*numbers, sep=' ')"
   ]
  },
  {
   "cell_type": "code",
   "execution_count": null,
   "id": "3ee9fb6b",
   "metadata": {},
   "outputs": [],
   "source": [
    "# Ask user for a number\n",
    "n = int(input(\"Enter a number: \"))\n",
    "\n",
    "# Initialize the factorial to 1\n",
    "factorial = 1\n",
    "\n",
    "# Calculate the factorial\n",
    "for i in range(1, n+1):\n",
    "    factorial *= i\n",
    "\n",
    "# Print the factorial\n",
    "print(factorial)"
   ]
  },
  {
   "cell_type": "code",
   "execution_count": null,
   "id": "9211cb17",
   "metadata": {},
   "outputs": [],
   "source": [
    "# Question 5\n",
    "string = \"hello team\"\n",
    "result = \"\"\n",
    "\n",
    "for i in range(len(string)):\n",
    "    if i % 2 == 0:\n",
    "        result += string[i]\n",
    "\n",
    "print(result)"
   ]
  },
  {
   "cell_type": "code",
   "execution_count": null,
   "id": "d698759e",
   "metadata": {},
   "outputs": [],
   "source": [
    "# Question 6\n",
    "def calculate_discounted_price(price):\n",
    "    if price >= 500:\n",
    "        discounted_price = price * 0.5\n",
    "    elif price >= 200:\n",
    "        discounted_price = price * 0.7\n",
    "    else:\n",
    "        discounted_price = price * 0.9\n",
    "    return discounted_price"
   ]
  },
  {
   "cell_type": "code",
   "execution_count": null,
   "id": "dde9b550",
   "metadata": {},
   "outputs": [],
   "source": [
    "# Question 7\n",
    "price1 = 600\n",
    "discounted_price1 = calculate_discounted_price(price1)\n",
    "print(discounted_price1)  # Output: 300.0\n",
    "\n",
    "price2 = 300\n",
    "discounted_price2 = calculate_discounted_price(price2)\n",
    "print(discounted_price2)  # Output: 210.0\n",
    "\n",
    "price3 = 100\n",
    "discounted_price3 = calculate_discounted_price(price3)\n",
    "print(discounted_price3)  # Output: 90.0"
   ]
  },
  {
   "cell_type": "code",
   "execution_count": null,
   "id": "2d8e8523",
   "metadata": {},
   "outputs": [],
   "source": []
  }
 ],
 "metadata": {
  "kernelspec": {
   "display_name": "Python 3 (ipykernel)",
   "language": "python",
   "name": "python3"
  },
  "language_info": {
   "codemirror_mode": {
    "name": "ipython",
    "version": 3
   },
   "file_extension": ".py",
   "mimetype": "text/x-python",
   "name": "python",
   "nbconvert_exporter": "python",
   "pygments_lexer": "ipython3",
   "version": "3.9.13"
  }
 },
 "nbformat": 4,
 "nbformat_minor": 5
}
